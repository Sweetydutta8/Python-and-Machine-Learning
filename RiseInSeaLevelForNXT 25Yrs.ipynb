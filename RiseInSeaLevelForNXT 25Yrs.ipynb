{
  "nbformat": 4,
  "nbformat_minor": 0,
  "metadata": {
    "colab": {
      "name": "Untitled17.ipynb",
      "provenance": [],
      "collapsed_sections": [],
      "authorship_tag": "ABX9TyPAdueKqVtGMZ+HUiD91OIr",
      "include_colab_link": true
    },
    "kernelspec": {
      "name": "python3",
      "display_name": "Python 3"
    }
  },
  "cells": [
    {
      "cell_type": "markdown",
      "metadata": {
        "id": "view-in-github",
        "colab_type": "text"
      },
      "source": [
        "<a href=\"https://colab.research.google.com/github/Sweetydutta8/hello-world/blob/master/RiseInSeaLevelForNXT%2025Yrs.ipynb\" target=\"_parent\"><img src=\"https://colab.research.google.com/assets/colab-badge.svg\" alt=\"Open In Colab\"/></a>"
      ]
    },
    {
      "cell_type": "markdown",
      "metadata": {
        "id": "KSfRtd0rp8TP",
        "colab_type": "text"
      },
      "source": [
        "Here we will be estimating how the oceans will rise over the next 25 years."
      ]
    },
    {
      "cell_type": "code",
      "metadata": {
        "id": "mzlh5DQ-p2Zf",
        "colab_type": "code",
        "colab": {}
      },
      "source": [
        "#Constant for the rise per year\n",
        "RISE_PER_YEAR = 1.6"
      ],
      "execution_count": null,
      "outputs": []
    },
    {
      "cell_type": "markdown",
      "metadata": {
        "id": "FRY5GT2nq-V_",
        "colab_type": "text"
      },
      "source": [
        " Since it has been scientifically that they'll rise about 1.6 millimeters a year."
      ]
    },
    {
      "cell_type": "code",
      "metadata": {
        "id": "fhfRAQaRjBB7",
        "colab_type": "code",
        "colab": {}
      },
      "source": [
        "# Declare a variable to store the rise.\n",
        "fRise = 0.0\n",
        "fInches = 0.0"
      ],
      "execution_count": 12,
      "outputs": []
    },
    {
      "cell_type": "code",
      "metadata": {
        "id": "BIH1enWljUL6",
        "colab_type": "code",
        "colab": {}
      },
      "source": [
        "# Calculate and print value for the rise per year.\n",
        "print ('Year\\t\\Rise (mm)\\tRise (in)')\n",
        "print ('---------------------------------------------------')"
      ],
      "execution_count": null,
      "outputs": []
    },
    {
      "cell_type": "code",
      "metadata": {
        "id": "jUT1Q_zij4SI",
        "colab_type": "code",
        "colab": {}
      },
      "source": [
        "#Conversion factor to convert millimeters into inches.\n",
        "for i in range(25) :\n",
        "    fRise += RISE_PER_YEAR\n",
        "    fInches = fRise * 0.039\n",
        "    print  ((iYear + 1), '\\t\\t', format(fRise, '.2f'),'\\t\\t', format(fInches, '.2f'))"
      ],
      "execution_count": null,
      "outputs": []
    },
    {
      "cell_type": "code",
      "metadata": {
        "id": "HiirOD0KlCgm",
        "colab_type": "code",
        "colab": {}
      },
      "source": [
        "for iYear in range(25) :\n",
        "    iYear += 1\n",
        "    fRise = iYear * RISE_PER_YEAR\n",
        "    fInches = fRise * 0.039"
      ],
      "execution_count": 16,
      "outputs": []
    },
    {
      "cell_type": "code",
      "metadata": {
        "id": "KJTLkO2pl3v2",
        "colab_type": "code",
        "colab": {
          "base_uri": "https://localhost:8080/",
          "height": 34
        },
        "outputId": "073b01df-8e8b-4373-c499-42f3e219c3f4"
      },
      "source": [
        "print ('{0:<5}  {1:>10.2f}  {2:<10.2f}'.format(iYear, fRise, fInches) )"
      ],
      "execution_count": 18,
      "outputs": [
        {
          "output_type": "stream",
          "text": [
            "25          40.00  1.56      \n"
          ],
          "name": "stdout"
        }
      ]
    }
  ]
}