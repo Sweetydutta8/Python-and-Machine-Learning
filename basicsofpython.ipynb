{
  "nbformat": 4,
  "nbformat_minor": 0,
  "metadata": {
    "colab": {
      "name": "Sweety.ipynb",
      "provenance": [],
      "collapsed_sections": [],
      "authorship_tag": "ABX9TyM7skuH2Nqrp96WgQZln1VR",
      "include_colab_link": true
    },
    "kernelspec": {
      "name": "python3",
      "display_name": "Python 3"
    }
  },
  "cells": [
    {
      "cell_type": "markdown",
      "metadata": {
        "id": "view-in-github",
        "colab_type": "text"
      },
      "source": [
        "<a href=\"https://colab.research.google.com/github/Sweetydutta8/hello-world/blob/master/Sweety.ipynb\" target=\"_parent\"><img src=\"https://colab.research.google.com/assets/colab-badge.svg\" alt=\"Open In Colab\"/></a>"
      ]
    },
    {
      "cell_type": "code",
      "metadata": {
        "id": "77wsMnVsszdI",
        "colab_type": "code",
        "outputId": "de14e66e-7de0-4e9c-c152-d0dc2815c2a1",
        "colab": {
          "base_uri": "https://localhost:8080/",
          "height": 68
        }
      },
      "source": [
        "# printing a function\n",
        "a=10\n",
        "name=\"victor\"\n",
        "salary=20000\n",
        "print(a)\n",
        "print(name)\n",
        "print(salary)"
      ],
      "execution_count": 0,
      "outputs": [
        {
          "output_type": "stream",
          "text": [
            "10\n",
            "victor\n",
            "20000\n"
          ],
          "name": "stdout"
        }
      ]
    },
    {
      "cell_type": "code",
      "metadata": {
        "id": "8SN322PetX-c",
        "colab_type": "code",
        "outputId": "b45a6fc6-5fdc-482b-98cc-32ee69fb2660",
        "colab": {
          "base_uri": "https://localhost:8080/",
          "height": 34
        }
      },
      "source": [
        "# assigining different value to each variable\n",
        "a=10\n",
        "b=20\n",
        "c=30\n",
        "x,y,z=10,10,10\n",
        "print(y,a)"
      ],
      "execution_count": 0,
      "outputs": [
        {
          "output_type": "stream",
          "text": [
            "10 10\n"
          ],
          "name": "stdout"
        }
      ]
    },
    {
      "cell_type": "markdown",
      "metadata": {
        "id": "rPFNteSyAoj8",
        "colab_type": "text"
      },
      "source": [
        ""
      ]
    },
    {
      "cell_type": "markdown",
      "metadata": {
        "id": "-F5MEmjwApCj",
        "colab_type": "text"
      },
      "source": [
        ""
      ]
    },
    {
      "cell_type": "code",
      "metadata": {
        "id": "hZR6WfFSApVB",
        "colab_type": "code",
        "colab": {}
      },
      "source": [
        ""
      ],
      "execution_count": 0,
      "outputs": []
    },
    {
      "cell_type": "code",
      "metadata": {
        "id": "98U4D1YJt88e",
        "colab_type": "code",
        "outputId": "a54e62c2-c50c-47c9-834c-311ed801293a",
        "colab": {
          "base_uri": "https://localhost:8080/",
          "height": 34
        }
      },
      "source": [
        "#arithmetic operators\n",
        "1245+6789"
      ],
      "execution_count": 0,
      "outputs": [
        {
          "output_type": "execute_result",
          "data": {
            "text/plain": [
              "8034"
            ]
          },
          "metadata": {
            "tags": []
          },
          "execution_count": 6
        }
      ]
    },
    {
      "cell_type": "code",
      "metadata": {
        "id": "LHZzqRZlurH3",
        "colab_type": "code",
        "outputId": "0224e6d6-9e53-41e0-f7fc-7e07f07e6712",
        "colab": {
          "base_uri": "https://localhost:8080/",
          "height": 34
        }
      },
      "source": [
        "34256/253"
      ],
      "execution_count": 0,
      "outputs": [
        {
          "output_type": "execute_result",
          "data": {
            "text/plain": [
              "135.399209486166"
            ]
          },
          "metadata": {
            "tags": []
          },
          "execution_count": 7
        }
      ]
    },
    {
      "cell_type": "code",
      "metadata": {
        "id": "85j5_tsOuK33",
        "colab_type": "code",
        "outputId": "2094ab2f-1ea1-4688-a881-9810478ddaf3",
        "colab": {
          "base_uri": "https://localhost:8080/",
          "height": 34
        }
      },
      "source": [
        "23456%6789\n"
      ],
      "execution_count": 0,
      "outputs": [
        {
          "output_type": "execute_result",
          "data": {
            "text/plain": [
              "3089"
            ]
          },
          "metadata": {
            "tags": []
          },
          "execution_count": 8
        }
      ]
    },
    {
      "cell_type": "code",
      "metadata": {
        "id": "6TRZ8bchvZ25",
        "colab_type": "code",
        "outputId": "b6023d04-10ce-4d63-cc07-bee00d9a0add",
        "colab": {
          "base_uri": "https://localhost:8080/",
          "height": 34
        }
      },
      "source": [
        "53467*2346"
      ],
      "execution_count": 0,
      "outputs": [
        {
          "output_type": "execute_result",
          "data": {
            "text/plain": [
              "125433582"
            ]
          },
          "metadata": {
            "tags": []
          },
          "execution_count": 9
        }
      ]
    },
    {
      "cell_type": "code",
      "metadata": {
        "id": "Dl_Nce6yvle2",
        "colab_type": "code",
        "outputId": "84730380-cd78-4b1f-8f15-a5c596dd2042",
        "colab": {
          "base_uri": "https://localhost:8080/",
          "height": 34
        }
      },
      "source": [
        "# assignment operator\n",
        "var=10\n",
        "var+=10\n",
        "print(var)"
      ],
      "execution_count": 0,
      "outputs": [
        {
          "output_type": "stream",
          "text": [
            "20\n"
          ],
          "name": "stdout"
        }
      ]
    },
    {
      "cell_type": "code",
      "metadata": {
        "id": "8-S8sInnv1VG",
        "colab_type": "code",
        "outputId": "ea95f579-6aed-4adb-c225-b91f0f4e45de",
        "colab": {
          "base_uri": "https://localhost:8080/",
          "height": 34
        }
      },
      "source": [
        "#comparision operator \n",
        "a=10\n",
        "b=20\n",
        "print(a>b)"
      ],
      "execution_count": 0,
      "outputs": [
        {
          "output_type": "stream",
          "text": [
            "False\n"
          ],
          "name": "stdout"
        }
      ]
    },
    {
      "cell_type": "code",
      "metadata": {
        "id": "KLHdt8dNxGkH",
        "colab_type": "code",
        "outputId": "179dedd4-aabf-43c8-9f02-bd2e244784e3",
        "colab": {
          "base_uri": "https://localhost:8080/",
          "height": 34
        }
      },
      "source": [
        "#logical operator\n",
        "a=10<10 and 2>-1\n",
        "print (a)"
      ],
      "execution_count": 0,
      "outputs": [
        {
          "output_type": "stream",
          "text": [
            "False\n"
          ],
          "name": "stdout"
        }
      ]
    },
    {
      "cell_type": "code",
      "metadata": {
        "id": "EjB9OoiwxWVQ",
        "colab_type": "code",
        "outputId": "c5dbb6c1-ebf8-4282-9cda-49fffee6edab",
        "colab": {
          "base_uri": "https://localhost:8080/",
          "height": 34
        }
      },
      "source": [
        "#bitwise operator\n",
        "a=7|5\n",
        "print(a)\n",
        "\n"
      ],
      "execution_count": 0,
      "outputs": [
        {
          "output_type": "stream",
          "text": [
            "7\n"
          ],
          "name": "stdout"
        }
      ]
    },
    {
      "cell_type": "code",
      "metadata": {
        "id": "RjGMYaR5xHK4",
        "colab_type": "code",
        "outputId": "dcf3d79d-bfff-43cc-eee0-6e5f8a9bb06f",
        "colab": {
          "base_uri": "https://localhost:8080/",
          "height": 34
        }
      },
      "source": [
        "# identity operator\n",
        "x=10\n",
        "x is 10"
      ],
      "execution_count": 0,
      "outputs": [
        {
          "output_type": "execute_result",
          "data": {
            "text/plain": [
              "True"
            ]
          },
          "metadata": {
            "tags": []
          },
          "execution_count": 25
        }
      ]
    },
    {
      "cell_type": "code",
      "metadata": {
        "id": "0oH0gsGqyfcI",
        "colab_type": "code",
        "outputId": "f7aad523-73dd-43c6-9ded-62075788d988",
        "colab": {
          "base_uri": "https://localhost:8080/",
          "height": 68
        }
      },
      "source": [
        "# datatype of the variablr\n",
        "a=10\n",
        "name='hill'\n",
        "salary=10000\n",
        "print(type(a))\n",
        "print(type(name))\n",
        "print(type(salary))\n"
      ],
      "execution_count": 0,
      "outputs": [
        {
          "output_type": "stream",
          "text": [
            "<class 'int'>\n",
            "<class 'str'>\n",
            "<class 'int'>\n"
          ],
          "name": "stdout"
        }
      ]
    },
    {
      "cell_type": "code",
      "metadata": {
        "id": "HmuHQvpo0Tlc",
        "colab_type": "code",
        "outputId": "ca420a41-28ab-41dd-cfe1-64b178f549b3",
        "colab": {
          "base_uri": "https://localhost:8080/",
          "height": 51
        }
      },
      "source": [
        "# printing the characters of a string\n",
        "var1='hello-world!'\n",
        "var2='python tutorial'\n",
        "print (var1[3])\n",
        "print (var2[1:5])"
      ],
      "execution_count": 0,
      "outputs": [
        {
          "output_type": "stream",
          "text": [
            "l\n",
            "ytho\n"
          ],
          "name": "stdout"
        }
      ]
    },
    {
      "cell_type": "code",
      "metadata": {
        "id": "6CYBji4j2av3",
        "colab_type": "code",
        "outputId": "1ffc9c7f-3d1d-4874-8f14-6472edf6c955",
        "colab": {
          "base_uri": "https://localhost:8080/",
          "height": 34
        }
      },
      "source": [
        "# returning the position of string\n",
        "str='attachment'\n",
        "str.find('me')"
      ],
      "execution_count": 0,
      "outputs": [
        {
          "output_type": "execute_result",
          "data": {
            "text/plain": [
              "6"
            ]
          },
          "metadata": {
            "tags": []
          },
          "execution_count": 36
        }
      ]
    },
    {
      "cell_type": "code",
      "metadata": {
        "id": "yLLFSTeV2vlx",
        "colab_type": "code",
        "outputId": "3c2f4f67-2d34-4bd1-bbbd-779ae1540143",
        "colab": {
          "base_uri": "https://localhost:8080/",
          "height": 34
        }
      },
      "source": [
        "# replacing one character or string\n",
        "str='replacement'\n",
        "str.replace('ce','c')"
      ],
      "execution_count": 0,
      "outputs": [
        {
          "output_type": "execute_result",
          "data": {
            "text/plain": [
              "'replacment'"
            ]
          },
          "metadata": {
            "tags": []
          },
          "execution_count": 37
        }
      ]
    },
    {
      "cell_type": "code",
      "metadata": {
        "id": "aSZdrTPX3EF2",
        "colab_type": "code",
        "outputId": "33c1beb9-7bda-4581-9628-baa90555dde4",
        "colab": {
          "base_uri": "https://localhost:8080/",
          "height": 34
        }
      },
      "source": [
        "# repacing or omitting letters from a word\n",
        "str.replace('ment','')"
      ],
      "execution_count": 0,
      "outputs": [
        {
          "output_type": "execute_result",
          "data": {
            "text/plain": [
              "'replace'"
            ]
          },
          "metadata": {
            "tags": []
          },
          "execution_count": 38
        }
      ]
    },
    {
      "cell_type": "code",
      "metadata": {
        "id": "ZuOxZZvu3ZwV",
        "colab_type": "code",
        "outputId": "92b260d4-2841-4593-df0f-dfd1d80983ec",
        "colab": {
          "base_uri": "https://localhost:8080/",
          "height": 34
        }
      },
      "source": [
        "#creating a split on the basis of character\n",
        "splitstr='word1,word2,word3'\n",
        "splitstr.split(',')"
      ],
      "execution_count": 0,
      "outputs": [
        {
          "output_type": "execute_result",
          "data": {
            "text/plain": [
              "['word1', 'word2', 'word3']"
            ]
          },
          "metadata": {
            "tags": []
          },
          "execution_count": 39
        }
      ]
    },
    {
      "cell_type": "code",
      "metadata": {
        "id": "DjWDnuzb39sR",
        "colab_type": "code",
        "outputId": "ec2f95fc-655c-4d77-e048-fbf421de9714",
        "colab": {
          "base_uri": "https://localhost:8080/",
          "height": 34
        }
      },
      "source": [
        "# returning the count of character\n",
        "str='Sweets'\n",
        "str.count('S')"
      ],
      "execution_count": 0,
      "outputs": [
        {
          "output_type": "execute_result",
          "data": {
            "text/plain": [
              "1"
            ]
          },
          "metadata": {
            "tags": []
          },
          "execution_count": 40
        }
      ]
    },
    {
      "cell_type": "code",
      "metadata": {
        "id": "PUc1GHnB4TWm",
        "colab_type": "code",
        "outputId": "fc1545b2-b8cc-497a-c772-2c4498bb2751",
        "colab": {
          "base_uri": "https://localhost:8080/",
          "height": 34
        }
      },
      "source": [
        "# converting character or string to upper case\n",
        "str='laptop'\n",
        "str.upper()"
      ],
      "execution_count": 0,
      "outputs": [
        {
          "output_type": "execute_result",
          "data": {
            "text/plain": [
              "'LAPTOP'"
            ]
          },
          "metadata": {
            "tags": []
          },
          "execution_count": 41
        }
      ]
    },
    {
      "cell_type": "code",
      "metadata": {
        "id": "SALUt8OX4ThI",
        "colab_type": "code",
        "outputId": "20498141-15fe-422b-d689-e34fe3cf1125",
        "colab": {
          "base_uri": "https://localhost:8080/",
          "height": 34
        }
      },
      "source": [
        "# returning the maximum or minimum ASCII value\n",
        "str='aquarium'\n",
        "max(str)\n"
      ],
      "execution_count": 0,
      "outputs": [
        {
          "output_type": "execute_result",
          "data": {
            "text/plain": [
              "'u'"
            ]
          },
          "metadata": {
            "tags": []
          },
          "execution_count": 43
        }
      ]
    },
    {
      "cell_type": "code",
      "metadata": {
        "id": "Z2_sEHIl5Ddy",
        "colab_type": "code",
        "outputId": "9923bb7f-82c1-4af3-f841-17318595a0e8",
        "colab": {
          "base_uri": "https://localhost:8080/",
          "height": 34
        }
      },
      "source": [
        "# concatenation on tuple\n",
        "mygroup=('a','b','c','d')\n",
        "mygroup+=('f',)\n",
        "print(mygroup)\n",
        "        "
      ],
      "execution_count": 0,
      "outputs": [
        {
          "output_type": "stream",
          "text": [
            "('a', 'b', 'c', 'd', 'f')\n"
          ],
          "name": "stdout"
        }
      ]
    },
    {
      "cell_type": "code",
      "metadata": {
        "id": "LlMZOX355t_0",
        "colab_type": "code",
        "outputId": "7f82d740-f640-45cc-a598-3ae6e15bc344",
        "colab": {
          "base_uri": "https://localhost:8080/",
          "height": 34
        }
      },
      "source": [
        "#repetition of tuple\n",
        "mygroup*2\n"
      ],
      "execution_count": 0,
      "outputs": [
        {
          "output_type": "execute_result",
          "data": {
            "text/plain": [
              "('a', 'b', 'c', 'd', 'f', 'a', 'b', 'c', 'd', 'f')"
            ]
          },
          "metadata": {
            "tags": []
          },
          "execution_count": 46
        }
      ]
    },
    {
      "cell_type": "code",
      "metadata": {
        "id": "R1_7XwVT6ACi",
        "colab_type": "code",
        "outputId": "3c15d734-de0f-404c-995a-221710960772",
        "colab": {
          "base_uri": "https://localhost:8080/",
          "height": 34
        }
      },
      "source": [
        "# indexing a character or string\n",
        "mygroup=('a','b','c','d')\n",
        "mygroup[2]\n"
      ],
      "execution_count": 0,
      "outputs": [
        {
          "output_type": "execute_result",
          "data": {
            "text/plain": [
              "'c'"
            ]
          },
          "metadata": {
            "tags": []
          },
          "execution_count": 49
        }
      ]
    },
    {
      "cell_type": "code",
      "metadata": {
        "id": "cgDothrN6m_v",
        "colab_type": "code",
        "outputId": "f3a4ded8-965d-42e4-fe4b-66ae4296a456",
        "colab": {
          "base_uri": "https://localhost:8080/",
          "height": 34
        }
      },
      "source": [
        "#appending\n",
        "mylist=['a','1','3.14','python']\n",
        "mylist.append('d')\n",
        "print(mylist)"
      ],
      "execution_count": 0,
      "outputs": [
        {
          "output_type": "stream",
          "text": [
            "['a', '1', '3.14', 'python', 'd']\n"
          ],
          "name": "stdout"
        }
      ]
    },
    {
      "cell_type": "code",
      "metadata": {
        "id": "vsdZZnFL-p9b",
        "colab_type": "code",
        "outputId": "26e9483d-30ed-45de-cd03-bfc890c4fa77",
        "colab": {
          "base_uri": "https://localhost:8080/",
          "height": 34
        }
      },
      "source": [
        "# extending\n",
        "mylist=['a','1','3.132','python']\n",
        "mylist.extend(['c','d'])\n",
        "print(mylist)"
      ],
      "execution_count": 0,
      "outputs": [
        {
          "output_type": "stream",
          "text": [
            "['a', '1', '3.132', 'python', 'c', 'd']\n"
          ],
          "name": "stdout"
        }
      ]
    },
    {
      "cell_type": "code",
      "metadata": {
        "id": "EzVFLMBCUXnf",
        "colab_type": "code",
        "outputId": "8157bc02-eecd-4fd1-8f87-7300263a6132",
        "colab": {
          "base_uri": "https://localhost:8080/",
          "height": 34
        }
      },
      "source": [
        "# inserting charactres/string\n",
        "mylist=['a','1','python']\n",
        "mylist.insert(2,'d')\n",
        "print(mylist)"
      ],
      "execution_count": 0,
      "outputs": [
        {
          "output_type": "stream",
          "text": [
            "['a', '1', 'd', 'python']\n"
          ],
          "name": "stdout"
        }
      ]
    },
    {
      "cell_type": "code",
      "metadata": {
        "id": "pTaQCAnkU3ng",
        "colab_type": "code",
        "outputId": "530d16ef-6606-421e-f012-e4acb3866715",
        "colab": {
          "base_uri": "https://localhost:8080/",
          "height": 34
        }
      },
      "source": [
        "# accessing python dictionary\n",
        "myDict={1:'word1',2:'word2'}\n",
        "myDict[1]\n"
      ],
      "execution_count": 0,
      "outputs": [
        {
          "output_type": "execute_result",
          "data": {
            "text/plain": [
              "'word1'"
            ]
          },
          "metadata": {
            "tags": []
          },
          "execution_count": 66
        }
      ]
    },
    {
      "cell_type": "code",
      "metadata": {
        "id": "nTVL0rzuVrwd",
        "colab_type": "code",
        "outputId": "8ba37032-1884-498a-e75d-871e8411dbbc",
        "colab": {
          "base_uri": "https://localhost:8080/",
          "height": 34
        }
      },
      "source": [
        "# to find the length of dictionary\n",
        "myDict={1:'word1',2:'word2'}\n",
        "len(myDict)"
      ],
      "execution_count": 0,
      "outputs": [
        {
          "output_type": "execute_result",
          "data": {
            "text/plain": [
              "2"
            ]
          },
          "metadata": {
            "tags": []
          },
          "execution_count": 67
        }
      ]
    },
    {
      "cell_type": "code",
      "metadata": {
        "id": "RRJJ3Bs-WD2P",
        "colab_type": "code",
        "outputId": "15c2326f-8ea5-4999-b33b-e0c9b5b482da",
        "colab": {
          "base_uri": "https://localhost:8080/",
          "height": 34
        }
      },
      "source": [
        "# to find the key of dictionary\n",
        "myDict={1:'apple', 2:'ball'}\n",
        "print(myDict.keys())"
      ],
      "execution_count": 0,
      "outputs": [
        {
          "output_type": "stream",
          "text": [
            "dict_keys([1, 2])\n"
          ],
          "name": "stdout"
        }
      ]
    },
    {
      "cell_type": "code",
      "metadata": {
        "id": "K1kM0kiLLmBb",
        "colab_type": "code",
        "outputId": "c95341a4-5bd2-48d9-aa2f-8b1a825cea0f",
        "colab": {
          "base_uri": "https://localhost:8080/",
          "height": 34
        }
      },
      "source": [
        "# to return all values defined within a dictionary\n",
        "myDict={1:'apple', 2:'ball'}\n",
        "print(myDict.values())"
      ],
      "execution_count": 0,
      "outputs": [
        {
          "output_type": "stream",
          "text": [
            "dict_values(['apple', 'ball'])\n"
          ],
          "name": "stdout"
        }
      ]
    },
    {
      "cell_type": "code",
      "metadata": {
        "id": "Gyf0CISjMHeh",
        "colab_type": "code",
        "outputId": "3f84d22c-bca1-4b60-a817-78a978b09285",
        "colab": {
          "base_uri": "https://localhost:8080/",
          "height": 34
        }
      },
      "source": [
        "# creating sets\n",
        "myset={1,2,3,4}\n",
        "print(myset)"
      ],
      "execution_count": 0,
      "outputs": [
        {
          "output_type": "stream",
          "text": [
            "{1, 2, 3, 4}\n"
          ],
          "name": "stdout"
        }
      ]
    },
    {
      "cell_type": "code",
      "metadata": {
        "id": "f6yU5JZRMZCd",
        "colab_type": "code",
        "outputId": "1756ce14-48ea-4631-e3f9-ef54b481efba",
        "colab": {
          "base_uri": "https://localhost:8080/",
          "height": 34
        }
      },
      "source": [
        "#creating union of two sets\n",
        "myS1={1,2,4,5}\n",
        "myS2={1,2,3}\n",
        "myS1|myS2"
      ],
      "execution_count": 0,
      "outputs": [
        {
          "output_type": "execute_result",
          "data": {
            "text/plain": [
              "{1, 2, 3, 4, 5}"
            ]
          },
          "metadata": {
            "tags": []
          },
          "execution_count": 12
        }
      ]
    },
    {
      "cell_type": "code",
      "metadata": {
        "id": "odEbF4DMNKEI",
        "colab_type": "code",
        "outputId": "e47cc5e1-8878-446b-c2f0-264d6281fd9a",
        "colab": {
          "base_uri": "https://localhost:8080/",
          "height": 34
        }
      },
      "source": [
        "# intersection of sets\n",
        "myS1={1,2,4}\n",
        "myS2={1,3,5}\n",
        "myS1&myS2"
      ],
      "execution_count": 0,
      "outputs": [
        {
          "output_type": "execute_result",
          "data": {
            "text/plain": [
              "{1}"
            ]
          },
          "metadata": {
            "tags": []
          },
          "execution_count": 14
        }
      ]
    },
    {
      "cell_type": "code",
      "metadata": {
        "id": "TbXO3VPjNnW2",
        "colab_type": "code",
        "outputId": "c90f0248-a352-4189-ee45-d9460c24267e",
        "colab": {
          "base_uri": "https://localhost:8080/",
          "height": 34
        }
      },
      "source": [
        "# difference of sets\n",
        "myS1={1,3,6}\n",
        "myS2={1,8,7}\n",
        "myS1-myS2"
      ],
      "execution_count": 0,
      "outputs": [
        {
          "output_type": "execute_result",
          "data": {
            "text/plain": [
              "{3, 6}"
            ]
          },
          "metadata": {
            "tags": []
          },
          "execution_count": 15
        }
      ]
    },
    {
      "cell_type": "code",
      "metadata": {
        "id": "eK7ocYQlOIv3",
        "colab_type": "code",
        "outputId": "b4d9de0c-7143-4997-d062-1176628cc97e",
        "colab": {
          "base_uri": "https://localhost:8080/",
          "height": 68
        }
      },
      "source": [
        "# for loops\n",
        "fruits=['apples','mangoes','bananas']\n",
        "for x in fruits: \n",
        " print (x)"
      ],
      "execution_count": 0,
      "outputs": [
        {
          "output_type": "stream",
          "text": [
            "apples\n",
            "mangoes\n",
            "bananas\n"
          ],
          "name": "stdout"
        }
      ]
    },
    {
      "cell_type": "code",
      "metadata": {
        "id": "lmKj0JhNPNj3",
        "colab_type": "code",
        "outputId": "315ed67a-e37e-424c-889b-93aa00230a03",
        "colab": {
          "base_uri": "https://localhost:8080/",
          "height": 51
        }
      },
      "source": [
        "# while loops\n",
        "a=1\n",
        "while a<5:\n",
        "  print(a)\n",
        "  a+=2\n",
        "\n",
        "    "
      ],
      "execution_count": 0,
      "outputs": [
        {
          "output_type": "stream",
          "text": [
            "1\n",
            "3\n"
          ],
          "name": "stdout"
        }
      ]
    },
    {
      "cell_type": "code",
      "metadata": {
        "id": "aZlLatVYO-wa",
        "colab_type": "code",
        "outputId": "9f552fde-9146-4564-c05d-a77ab337e3a8",
        "colab": {
          "base_uri": "https://localhost:8080/",
          "height": 85
        }
      },
      "source": [
        "#break loop\n",
        "a=10\n",
        "while a>0:\n",
        "   a-=1\n",
        "   if(a!=5):\n",
        "      print(a) \n",
        "   else:\n",
        "      break\n",
        "  "
      ],
      "execution_count": 0,
      "outputs": [
        {
          "output_type": "stream",
          "text": [
            "9\n",
            "8\n",
            "7\n",
            "6\n"
          ],
          "name": "stdout"
        }
      ]
    },
    {
      "cell_type": "code",
      "metadata": {
        "id": "O6821fLsXyVJ",
        "colab_type": "code",
        "outputId": "2df75801-355a-4f9a-e2c5-a729f54ce1d0",
        "colab": {
          "base_uri": "https://localhost:8080/",
          "height": 170
        }
      },
      "source": [
        "# continue block\n",
        "a=10\n",
        "while a>0:\n",
        "    a-=1\n",
        "    if(a!=5):\n",
        "        print(a)\n",
        "    else:\n",
        "        continue\n"
      ],
      "execution_count": 0,
      "outputs": [
        {
          "output_type": "stream",
          "text": [
            "9\n",
            "8\n",
            "7\n",
            "6\n",
            "4\n",
            "3\n",
            "2\n",
            "1\n",
            "0\n"
          ],
          "name": "stdout"
        }
      ]
    },
    {
      "cell_type": "code",
      "metadata": {
        "id": "EJDprnwCayE2",
        "colab_type": "code",
        "colab": {}
      },
      "source": [
        "#python user defined statement\n",
        "def add(a,b):\n",
        "    sum=a+b\n",
        "    return sum"
      ],
      "execution_count": 0,
      "outputs": []
    },
    {
      "cell_type": "code",
      "metadata": {
        "id": "jG63A-EOblFz",
        "colab_type": "code",
        "outputId": "cb213123-25b4-4829-b3e9-a52595a82881",
        "colab": {
          "base_uri": "https://localhost:8080/",
          "height": 51
        }
      },
      "source": [
        "# pass by value\n",
        "a=10\n",
        "def changeIt(b):\n",
        "    print('value of b is',b)\n",
        "    b=100\n",
        "    print('new value of b is',b)\n",
        "changeIt(a)    \n"
      ],
      "execution_count": 0,
      "outputs": [
        {
          "output_type": "stream",
          "text": [
            "value of b is 10\n",
            "new value of b is 100\n"
          ],
          "name": "stdout"
        }
      ]
    },
    {
      "cell_type": "code",
      "metadata": {
        "id": "I8CPmgCFczj9",
        "colab_type": "code",
        "outputId": "9ef99f05-3a2e-4c0d-bb59-ad8e555e34f4",
        "colab": {
          "base_uri": "https://localhost:8080/",
          "height": 51
        }
      },
      "source": [
        "# pass by reference\n",
        "c=[10,20,30]\n",
        "def changeThem(d):\n",
        "    print('value of d is',d)\n",
        "    d[0]=99 \n",
        "    d[1]=98\n",
        "    print('new value of d is',d)\n",
        "changeThem(c)    "
      ],
      "execution_count": 0,
      "outputs": [
        {
          "output_type": "stream",
          "text": [
            "value of d is [10, 20, 30]\n",
            "new value of d is [99, 98, 30]\n"
          ],
          "name": "stdout"
        }
      ]
    },
    {
      "cell_type": "code",
      "metadata": {
        "id": "nnYu_uBMdp0D",
        "colab_type": "code",
        "outputId": "a95005b5-4c88-4a49-a14e-258faf56a7a1",
        "colab": {
          "base_uri": "https://localhost:8080/",
          "height": 34
        }
      },
      "source": [
        "# lambda function\n",
        "x=lambda a:a+10\n",
        "print(x(5))\n"
      ],
      "execution_count": 0,
      "outputs": [
        {
          "output_type": "stream",
          "text": [
            "15\n"
          ],
          "name": "stdout"
        }
      ]
    },
    {
      "cell_type": "code",
      "metadata": {
        "id": "MZ3fCQi8eFwZ",
        "colab_type": "code",
        "colab": {}
      },
      "source": [
        "#power of lambda function\n",
        "def myfunc(n):\n",
        "    return lambda a:a*n\n",
        "          "
      ],
      "execution_count": 0,
      "outputs": []
    },
    {
      "cell_type": "code",
      "metadata": {
        "id": "vKa30_GrevMR",
        "colab_type": "code",
        "outputId": "bb39af1d-f23f-4850-ba8f-aac2f60fa638",
        "colab": {
          "base_uri": "https://localhost:8080/",
          "height": 34
        }
      },
      "source": [
        "doubleme = myfunc(2)\n",
        "print(doubleme(12))"
      ],
      "execution_count": 0,
      "outputs": [
        {
          "output_type": "stream",
          "text": [
            "24\n"
          ],
          "name": "stdout"
        }
      ]
    },
    {
      "cell_type": "code",
      "metadata": {
        "id": "AARMvZ50dpw1",
        "colab_type": "code",
        "colab": {}
      },
      "source": [
        ""
      ],
      "execution_count": 0,
      "outputs": []
    },
    {
      "cell_type": "code",
      "metadata": {
        "id": "_MIVIhvxcHwK",
        "colab_type": "code",
        "colab": {}
      },
      "source": [
        ""
      ],
      "execution_count": 0,
      "outputs": []
    },
    {
      "cell_type": "code",
      "metadata": {
        "id": "M_f_guc4blCu",
        "colab_type": "code",
        "colab": {}
      },
      "source": [
        ""
      ],
      "execution_count": 0,
      "outputs": []
    },
    {
      "cell_type": "code",
      "metadata": {
        "id": "JyFYlQs7bRxi",
        "colab_type": "code",
        "colab": {}
      },
      "source": [
        ""
      ],
      "execution_count": 0,
      "outputs": []
    },
    {
      "cell_type": "code",
      "metadata": {
        "id": "i_jsCoFqaN9E",
        "colab_type": "code",
        "colab": {}
      },
      "source": [
        ""
      ],
      "execution_count": 0,
      "outputs": []
    },
    {
      "cell_type": "code",
      "metadata": {
        "id": "KghSkT-PYSNe",
        "colab_type": "code",
        "colab": {}
      },
      "source": [
        ""
      ],
      "execution_count": 0,
      "outputs": []
    }
  ]
}
