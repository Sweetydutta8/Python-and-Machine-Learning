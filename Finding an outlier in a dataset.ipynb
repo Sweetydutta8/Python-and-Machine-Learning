{
  "nbformat": 4,
  "nbformat_minor": 0,
  "metadata": {
    "colab": {
      "name": "Untitled16.ipynb",
      "provenance": [],
      "authorship_tag": "ABX9TyNII+bUhG5tb9mm1Jsp4TIi",
      "include_colab_link": true
    },
    "kernelspec": {
      "name": "python3",
      "display_name": "Python 3"
    }
  },
  "cells": [
    {
      "cell_type": "markdown",
      "metadata": {
        "id": "view-in-github",
        "colab_type": "text"
      },
      "source": [
        "<a href=\"https://colab.research.google.com/github/Sweetydutta8/hello-world/blob/master/Finding%20an%20outlier%20in%20a%20dataset.ipynb\" target=\"_parent\"><img src=\"https://colab.research.google.com/assets/colab-badge.svg\" alt=\"Open In Colab\"/></a>"
      ]
    },
    {
      "cell_type": "code",
      "metadata": {
        "id": "63tWuu_mab4h",
        "colab_type": "code",
        "colab": {}
      },
      "source": [
        "import numpy as np\n",
        "import matplotlib.pyplot as plt\n",
        "%matplotlib inline"
      ],
      "execution_count": 1,
      "outputs": []
    },
    {
      "cell_type": "markdown",
      "metadata": {
        "id": "y-43Qr08dGG9",
        "colab_type": "text"
      },
      "source": [
        "Defination of an outlier-\n",
        "\n",
        "An outlier is a data point in a data set that is distant from all other observations. A data point that lies outside the overall distribution of the dataset."
      ]
    },
    {
      "cell_type": "code",
      "metadata": {
        "id": "UznM7v1xapdh",
        "colab_type": "code",
        "colab": {}
      },
      "source": [
        "dataset= [11,10,12,14,12,15,14,13,15,102,12,14,17,19,107, 10,13,12,14,12,108,12,11,14,13,15,10,15,12,10,14,13,15,10]"
      ],
      "execution_count": 2,
      "outputs": []
    },
    {
      "cell_type": "markdown",
      "metadata": {
        "id": "Q3gtOeB1dcFd",
        "colab_type": "text"
      },
      "source": [
        "\n",
        " The criteria to identify an outlier-\n",
        " \n",
        "1.Data point that falls outside of 1.5 times of an interquartile range above the 3rd quartile and below the 1st quartile\n",
        "\n",
        "2.Data point that falls outside of 3 standard deviations. we can use a z score and if the z score falls outside of 2 standard deviation\n",
        "\n",
        " The reason for an outlier to exists in a dataset-\n",
        "\n",
        "1.Variability in the data\n",
        "\n",
        "2.An experimental measurement error\n",
        "\n",
        " The impacts of having outliers in a dataset-\n",
        "\n",
        "1.It causes various problems during our statistical analysis\n",
        "\n",
        "2.It may cause a significant impact on the mean and the standard deviation\n",
        "\n",
        "Various ways of finding the outlier-\n",
        "\n",
        "1.Using scatter plots\n",
        "\n",
        "2.Box plot\n",
        "\n",
        "3.using z score\n",
        "\n",
        "4.using the IQR interquantile range.\n"
      ]
    },
    {
      "cell_type": "markdown",
      "metadata": {
        "id": "lsuLg6cFe5Oe",
        "colab_type": "text"
      },
      "source": [
        "Detecting outlier using Z score\n",
        "\n",
        "Using Z score\n",
        "\n",
        "Formula for Z score = (Observation — Mean)/Standard Deviation\n",
        "\n",
        "z = (X — μ) / σ"
      ]
    },
    {
      "cell_type": "code",
      "metadata": {
        "id": "4VnAPlsQapgQ",
        "colab_type": "code",
        "colab": {}
      },
      "source": [
        "outliers=[]\n",
        "def detect_outliers(data):\n",
        "    \n",
        "    threshold=3\n",
        "    mean = np.mean(data)\n",
        "    std =np.std(data)\n",
        "    \n",
        "    \n",
        "    for i in data:\n",
        "        z_score= (i - mean)/std \n",
        "        if np.abs(z_score) > threshold:\n",
        "            outliers.append(i)\n",
        "    return outliers"
      ],
      "execution_count": 5,
      "outputs": []
    },
    {
      "cell_type": "code",
      "metadata": {
        "id": "IPy95uvXapiv",
        "colab_type": "code",
        "colab": {}
      },
      "source": [
        "outlier_pt=detect_outliers(dataset)"
      ],
      "execution_count": 6,
      "outputs": []
    },
    {
      "cell_type": "code",
      "metadata": {
        "id": "4HTnr6xEaplZ",
        "colab_type": "code",
        "colab": {
          "base_uri": "https://localhost:8080/",
          "height": 34
        },
        "outputId": "13701949-425c-45c6-ce9a-eda09d4cd5f0"
      },
      "source": [
        "outlier_pt"
      ],
      "execution_count": 7,
      "outputs": [
        {
          "output_type": "execute_result",
          "data": {
            "text/plain": [
              "[102, 107, 108]"
            ]
          },
          "metadata": {
            "tags": []
          },
          "execution_count": 7
        }
      ]
    },
    {
      "cell_type": "markdown",
      "metadata": {
        "id": "xCRMutJgfD82",
        "colab_type": "text"
      },
      "source": [
        "InterQuantile Range\n",
        "\n",
        "75%- 25% values in a dataset\n",
        "\n",
        "\n",
        "Steps\n",
        "\n",
        "1. Arrange the data in increasing order\n",
        "\n",
        "2. Calculate first(q1) and third quartile(q3)\n",
        "\n",
        "3. Find interquartile range (q3-q1)\n",
        "\n",
        "4.Find lower bound q1*1.5\n",
        "\n",
        "5.Find upper bound q3*1.5\n",
        "\n",
        "Anything that lies outside of lower and upper bound is an outlier\n"
      ]
    },
    {
      "cell_type": "code",
      "metadata": {
        "id": "LAidOkSpapo3",
        "colab_type": "code",
        "colab": {
          "base_uri": "https://localhost:8080/",
          "height": 588
        },
        "outputId": "c50d49e6-e70a-47e1-d659-52c302ee6f37"
      },
      "source": [
        "## Perform all the steps of IQR\n",
        "sorted(dataset)"
      ],
      "execution_count": 8,
      "outputs": [
        {
          "output_type": "execute_result",
          "data": {
            "text/plain": [
              "[10,\n",
              " 10,\n",
              " 10,\n",
              " 10,\n",
              " 10,\n",
              " 11,\n",
              " 11,\n",
              " 12,\n",
              " 12,\n",
              " 12,\n",
              " 12,\n",
              " 12,\n",
              " 12,\n",
              " 12,\n",
              " 13,\n",
              " 13,\n",
              " 13,\n",
              " 13,\n",
              " 14,\n",
              " 14,\n",
              " 14,\n",
              " 14,\n",
              " 14,\n",
              " 14,\n",
              " 15,\n",
              " 15,\n",
              " 15,\n",
              " 15,\n",
              " 15,\n",
              " 17,\n",
              " 19,\n",
              " 102,\n",
              " 107,\n",
              " 108]"
            ]
          },
          "metadata": {
            "tags": []
          },
          "execution_count": 8
        }
      ]
    },
    {
      "cell_type": "code",
      "metadata": {
        "id": "HjO3dSfOapat",
        "colab_type": "code",
        "colab": {}
      },
      "source": [
        "quantile1, quantile3= np.percentile(dataset,[25,75])"
      ],
      "execution_count": 10,
      "outputs": []
    },
    {
      "cell_type": "code",
      "metadata": {
        "id": "Cnhu0DdRcA7R",
        "colab_type": "code",
        "colab": {
          "base_uri": "https://localhost:8080/",
          "height": 34
        },
        "outputId": "032aa9f0-8918-48fa-da1d-aec0666220c8"
      },
      "source": [
        "print(quantile1,quantile3)"
      ],
      "execution_count": 11,
      "outputs": [
        {
          "output_type": "stream",
          "text": [
            "12.0 15.0\n"
          ],
          "name": "stdout"
        }
      ]
    },
    {
      "cell_type": "code",
      "metadata": {
        "id": "ouNDO37rcDdB",
        "colab_type": "code",
        "colab": {
          "base_uri": "https://localhost:8080/",
          "height": 34
        },
        "outputId": "4a260ef8-06fc-41d9-e618-43a2350c31d3"
      },
      "source": [
        "## Find the IQR\n",
        "\n",
        "iqr_value=quantile3-quantile1\n",
        "print(iqr_value)"
      ],
      "execution_count": 12,
      "outputs": [
        {
          "output_type": "stream",
          "text": [
            "3.0\n"
          ],
          "name": "stdout"
        }
      ]
    },
    {
      "cell_type": "code",
      "metadata": {
        "id": "Z7Tv-5bccdSu",
        "colab_type": "code",
        "colab": {}
      },
      "source": [
        "## Find the lower bound value and the higher bound value\n",
        "\n",
        "lower_bound_val = quantile1 -(1.5 * iqr_value) \n",
        "upper_bound_val = quantile3 +(1.5 * iqr_value)"
      ],
      "execution_count": 14,
      "outputs": []
    },
    {
      "cell_type": "code",
      "metadata": {
        "id": "OABjQaRdcdWQ",
        "colab_type": "code",
        "colab": {
          "base_uri": "https://localhost:8080/",
          "height": 34
        },
        "outputId": "cd29c87e-ef00-4940-a8b3-dd392e45153f"
      },
      "source": [
        "print(lower_bound_val,upper_bound_val)"
      ],
      "execution_count": 15,
      "outputs": [
        {
          "output_type": "stream",
          "text": [
            "7.5 19.5\n"
          ],
          "name": "stdout"
        }
      ]
    }
  ]
}