{
  "nbformat": 4,
  "nbformat_minor": 0,
  "metadata": {
    "colab": {
      "name": "Untitled15.ipynb",
      "provenance": [],
      "authorship_tag": "ABX9TyNua3YlB6ZP+/QwafsX09he",
      "include_colab_link": true
    },
    "kernelspec": {
      "name": "python3",
      "display_name": "Python 3"
    }
  },
  "cells": [
    {
      "cell_type": "markdown",
      "metadata": {
        "id": "view-in-github",
        "colab_type": "text"
      },
      "source": [
        "<a href=\"https://colab.research.google.com/github/Sweetydutta8/hello-world/blob/master/bankchurning%20using%20ann.ipynb\" target=\"_parent\"><img src=\"https://colab.research.google.com/assets/colab-badge.svg\" alt=\"Open In Colab\"/></a>"
      ]
    },
    {
      "cell_type": "code",
      "metadata": {
        "id": "CeoF5R_tTmBC",
        "colab_type": "code",
        "colab": {}
      },
      "source": [
        "# Artificial Neural Network\n",
        "\n",
        "\n",
        "# Part 1 - Data Preprocessing\n",
        "\n",
        "# Importing the libraries\n",
        "import numpy as np\n",
        "import matplotlib.pyplot as plt\n",
        "import pandas as pd"
      ],
      "execution_count": 1,
      "outputs": []
    },
    {
      "cell_type": "code",
      "metadata": {
        "id": "0l6BAm-MT20u",
        "colab_type": "code",
        "colab": {
          "resources": {
            "http://localhost:8080/nbextensions/google.colab/files.js": {
              "data": "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",
              "ok": true,
              "headers": [
                [
                  "content-type",
                  "application/javascript"
                ]
              ],
              "status": 200,
              "status_text": ""
            }
          },
          "base_uri": "https://localhost:8080/",
          "height": 73
        },
        "outputId": "82054a39-d66c-45d1-82ec-3a978ca73f4b"
      },
      "source": [
        "from google.colab import files\n",
        "files=files.upload()"
      ],
      "execution_count": 2,
      "outputs": [
        {
          "output_type": "display_data",
          "data": {
            "text/html": [
              "\n",
              "     <input type=\"file\" id=\"files-5d215a67-f118-46c2-9842-45652a3154b1\" name=\"files[]\" multiple disabled\n",
              "        style=\"border:none\" />\n",
              "     <output id=\"result-5d215a67-f118-46c2-9842-45652a3154b1\">\n",
              "      Upload widget is only available when the cell has been executed in the\n",
              "      current browser session. Please rerun this cell to enable.\n",
              "      </output>\n",
              "      <script src=\"/nbextensions/google.colab/files.js\"></script> "
            ],
            "text/plain": [
              "<IPython.core.display.HTML object>"
            ]
          },
          "metadata": {
            "tags": []
          }
        },
        {
          "output_type": "stream",
          "text": [
            "Saving Churn_Modelling.csv to Churn_Modelling.csv\n"
          ],
          "name": "stdout"
        }
      ]
    },
    {
      "cell_type": "code",
      "metadata": {
        "id": "ET4kmdfHUW2D",
        "colab_type": "code",
        "colab": {}
      },
      "source": [
        " #Importing the dataset\n",
        "dataset = pd.read_csv('Churn_Modelling.csv')\n",
        "X = dataset.iloc[:, 3:13]\n",
        "y = dataset.iloc[:, 13]"
      ],
      "execution_count": 4,
      "outputs": []
    },
    {
      "cell_type": "code",
      "metadata": {
        "id": "JQNMv72EUyDk",
        "colab_type": "code",
        "colab": {}
      },
      "source": [
        "#Create dummy variables\n",
        "geography=pd.get_dummies(X[\"Geography\"],drop_first=True)\n",
        "gender=pd.get_dummies(X['Gender'],drop_first=True)"
      ],
      "execution_count": 6,
      "outputs": []
    },
    {
      "cell_type": "code",
      "metadata": {
        "id": "R7N0O65jU4UC",
        "colab_type": "code",
        "colab": {}
      },
      "source": [
        "## Concatenate the Data Frames\n",
        "\n",
        "X=pd.concat([X,geography,gender],axis=1)"
      ],
      "execution_count": 7,
      "outputs": []
    },
    {
      "cell_type": "code",
      "metadata": {
        "id": "qIZwUG4qU4kb",
        "colab_type": "code",
        "colab": {}
      },
      "source": [
        "## Drop Unnecessary columns\n",
        "X=X.drop(['Geography','Gender'],axis=1)"
      ],
      "execution_count": 8,
      "outputs": []
    },
    {
      "cell_type": "code",
      "metadata": {
        "id": "10EQWXTAU4ym",
        "colab_type": "code",
        "colab": {}
      },
      "source": [
        "# Splitting the dataset into the Training set and Test set\n",
        "from sklearn.model_selection import train_test_split\n",
        "X_train, X_test, y_train, y_test = train_test_split(X, y, test_size = 0.2, random_state = 0)\n"
      ],
      "execution_count": 9,
      "outputs": []
    },
    {
      "cell_type": "code",
      "metadata": {
        "id": "qJ9eF2FYU5fS",
        "colab_type": "code",
        "colab": {}
      },
      "source": [
        "# Feature Scaling\n",
        "from sklearn.preprocessing import StandardScaler\n",
        "sc = StandardScaler()\n",
        "X_train = sc.fit_transform(X_train)\n",
        "X_test = sc.transform(X_test)"
      ],
      "execution_count": 10,
      "outputs": []
    },
    {
      "cell_type": "code",
      "metadata": {
        "id": "p2Gj5oR4VaTX",
        "colab_type": "code",
        "colab": {}
      },
      "source": [
        "# Part 2 - Now let's make the ANN!\n",
        "\n",
        "# Importing the Keras libraries and packages\n",
        "import keras\n",
        "from keras.models import Sequential\n",
        "from keras.layers import Dense\n",
        "from keras.layers import LeakyReLU,PReLU,ELU\n",
        "from keras.layers import Dropout"
      ],
      "execution_count": null,
      "outputs": []
    },
    {
      "cell_type": "code",
      "metadata": {
        "id": "6qiDR7kVVaZT",
        "colab_type": "code",
        "colab": {}
      },
      "source": [
        "# Initialising the ANN\n",
        "classifier = Sequential()"
      ],
      "execution_count": 12,
      "outputs": []
    },
    {
      "cell_type": "code",
      "metadata": {
        "id": "9eAivfMFVab6",
        "colab_type": "code",
        "colab": {}
      },
      "source": [
        "# Adding the input layer and the first hidden layer\n",
        "classifier.add(Dense(output_dim = 6, init = 'he_uniform',activation='relu',input_dim = 11))\n",
        "\n"
      ],
      "execution_count": null,
      "outputs": []
    },
    {
      "cell_type": "code",
      "metadata": {
        "id": "ufNmD8ocVaea",
        "colab_type": "code",
        "colab": {}
      },
      "source": [
        "# Adding the second hidden layer\n",
        "classifier.add(Dense(output_dim = 6, init = 'he_uniform',activation='relu'))\n",
        "# Adding the output layer\n",
        "classifier.add(Dense(output_dim = 1, init = 'glorot_uniform', activation = 'sigmoid'))"
      ],
      "execution_count": null,
      "outputs": []
    },
    {
      "cell_type": "code",
      "metadata": {
        "id": "bblViF9AVag4",
        "colab_type": "code",
        "colab": {}
      },
      "source": [
        "# Compiling the ANN\n",
        "classifier.compile(optimizer = 'Adamax', loss = 'binary_crossentropy', metrics = ['accuracy'])\n"
      ],
      "execution_count": 15,
      "outputs": []
    },
    {
      "cell_type": "code",
      "metadata": {
        "id": "BqC1HGHBVajR",
        "colab_type": "code",
        "colab": {
          "base_uri": "https://localhost:8080/",
          "height": 1000
        },
        "outputId": "f977fb5c-9f1d-4b64-8490-50ffde496d04"
      },
      "source": [
        "# Fitting the ANN to the Training set\n",
        "model_history=classifier.fit(X_train, y_train,validation_split=0.33, batch_size = 10, nb_epoch = 100)\n"
      ],
      "execution_count": 16,
      "outputs": [
        {
          "output_type": "stream",
          "text": [
            "/usr/local/lib/python3.6/dist-packages/ipykernel_launcher.py:2: UserWarning: The `nb_epoch` argument in `fit` has been renamed `epochs`.\n",
            "  \n"
          ],
          "name": "stderr"
        },
        {
          "output_type": "stream",
          "text": [
            "Train on 5359 samples, validate on 2641 samples\n",
            "Epoch 1/100\n",
            "5359/5359 [==============================] - 1s 197us/step - loss: 0.6091 - accuracy: 0.7020 - val_loss: 0.5132 - val_accuracy: 0.7955\n",
            "Epoch 2/100\n",
            "5359/5359 [==============================] - 1s 133us/step - loss: 0.4870 - accuracy: 0.7962 - val_loss: 0.4780 - val_accuracy: 0.7955\n",
            "Epoch 3/100\n",
            "5359/5359 [==============================] - 1s 137us/step - loss: 0.4569 - accuracy: 0.7970 - val_loss: 0.4591 - val_accuracy: 0.7948\n",
            "Epoch 4/100\n",
            "5359/5359 [==============================] - 1s 134us/step - loss: 0.4400 - accuracy: 0.7994 - val_loss: 0.4477 - val_accuracy: 0.7944\n",
            "Epoch 5/100\n",
            "5359/5359 [==============================] - 1s 138us/step - loss: 0.4293 - accuracy: 0.8117 - val_loss: 0.4401 - val_accuracy: 0.8069\n",
            "Epoch 6/100\n",
            "5359/5359 [==============================] - 1s 138us/step - loss: 0.4220 - accuracy: 0.8171 - val_loss: 0.4342 - val_accuracy: 0.8111\n",
            "Epoch 7/100\n",
            "5359/5359 [==============================] - 1s 149us/step - loss: 0.4166 - accuracy: 0.8199 - val_loss: 0.4309 - val_accuracy: 0.8171\n",
            "Epoch 8/100\n",
            "5359/5359 [==============================] - 1s 139us/step - loss: 0.4128 - accuracy: 0.8227 - val_loss: 0.4267 - val_accuracy: 0.8164\n",
            "Epoch 9/100\n",
            "5359/5359 [==============================] - 1s 136us/step - loss: 0.4091 - accuracy: 0.8265 - val_loss: 0.4237 - val_accuracy: 0.8190\n",
            "Epoch 10/100\n",
            "5359/5359 [==============================] - 1s 135us/step - loss: 0.4058 - accuracy: 0.8283 - val_loss: 0.4207 - val_accuracy: 0.8224\n",
            "Epoch 11/100\n",
            "5359/5359 [==============================] - 1s 143us/step - loss: 0.4019 - accuracy: 0.8300 - val_loss: 0.4175 - val_accuracy: 0.8239\n",
            "Epoch 12/100\n",
            "5359/5359 [==============================] - 1s 134us/step - loss: 0.3987 - accuracy: 0.8313 - val_loss: 0.4146 - val_accuracy: 0.8243\n",
            "Epoch 13/100\n",
            "5359/5359 [==============================] - 1s 136us/step - loss: 0.3951 - accuracy: 0.8341 - val_loss: 0.4120 - val_accuracy: 0.8258\n",
            "Epoch 14/100\n",
            "5359/5359 [==============================] - 1s 134us/step - loss: 0.3916 - accuracy: 0.8356 - val_loss: 0.4091 - val_accuracy: 0.8273\n",
            "Epoch 15/100\n",
            "5359/5359 [==============================] - 1s 139us/step - loss: 0.3874 - accuracy: 0.8388 - val_loss: 0.4064 - val_accuracy: 0.8319\n",
            "Epoch 16/100\n",
            "5359/5359 [==============================] - 1s 137us/step - loss: 0.3838 - accuracy: 0.8416 - val_loss: 0.4020 - val_accuracy: 0.8315\n",
            "Epoch 17/100\n",
            "5359/5359 [==============================] - 1s 137us/step - loss: 0.3793 - accuracy: 0.8434 - val_loss: 0.3978 - val_accuracy: 0.8334\n",
            "Epoch 18/100\n",
            "5359/5359 [==============================] - 1s 136us/step - loss: 0.3746 - accuracy: 0.8477 - val_loss: 0.3947 - val_accuracy: 0.8357\n",
            "Epoch 19/100\n",
            "5359/5359 [==============================] - 1s 135us/step - loss: 0.3693 - accuracy: 0.8490 - val_loss: 0.3902 - val_accuracy: 0.8353\n",
            "Epoch 20/100\n",
            "5359/5359 [==============================] - 1s 138us/step - loss: 0.3641 - accuracy: 0.8526 - val_loss: 0.3864 - val_accuracy: 0.8368\n",
            "Epoch 21/100\n",
            "5359/5359 [==============================] - 1s 135us/step - loss: 0.3591 - accuracy: 0.8539 - val_loss: 0.3821 - val_accuracy: 0.8406\n",
            "Epoch 22/100\n",
            "5359/5359 [==============================] - 1s 139us/step - loss: 0.3549 - accuracy: 0.8545 - val_loss: 0.3796 - val_accuracy: 0.8413\n",
            "Epoch 23/100\n",
            "5359/5359 [==============================] - 1s 140us/step - loss: 0.3519 - accuracy: 0.8591 - val_loss: 0.3772 - val_accuracy: 0.8436\n",
            "Epoch 24/100\n",
            "5359/5359 [==============================] - 1s 137us/step - loss: 0.3488 - accuracy: 0.8578 - val_loss: 0.3754 - val_accuracy: 0.8444\n",
            "Epoch 25/100\n",
            "5359/5359 [==============================] - 1s 136us/step - loss: 0.3466 - accuracy: 0.8599 - val_loss: 0.3731 - val_accuracy: 0.8470\n",
            "Epoch 26/100\n",
            "5359/5359 [==============================] - 1s 135us/step - loss: 0.3447 - accuracy: 0.8593 - val_loss: 0.3709 - val_accuracy: 0.8466\n",
            "Epoch 27/100\n",
            "5359/5359 [==============================] - 1s 137us/step - loss: 0.3432 - accuracy: 0.8574 - val_loss: 0.3710 - val_accuracy: 0.8463\n",
            "Epoch 28/100\n",
            "5359/5359 [==============================] - 1s 139us/step - loss: 0.3420 - accuracy: 0.8597 - val_loss: 0.3694 - val_accuracy: 0.8470\n",
            "Epoch 29/100\n",
            "5359/5359 [==============================] - 1s 135us/step - loss: 0.3409 - accuracy: 0.8600 - val_loss: 0.3682 - val_accuracy: 0.8504\n",
            "Epoch 30/100\n",
            "5359/5359 [==============================] - 1s 133us/step - loss: 0.3401 - accuracy: 0.8595 - val_loss: 0.3670 - val_accuracy: 0.8485\n",
            "Epoch 31/100\n",
            "5359/5359 [==============================] - 1s 135us/step - loss: 0.3393 - accuracy: 0.8602 - val_loss: 0.3665 - val_accuracy: 0.8489\n",
            "Epoch 32/100\n",
            "5359/5359 [==============================] - 1s 137us/step - loss: 0.3384 - accuracy: 0.8600 - val_loss: 0.3660 - val_accuracy: 0.8493\n",
            "Epoch 33/100\n",
            "5359/5359 [==============================] - 1s 136us/step - loss: 0.3379 - accuracy: 0.8602 - val_loss: 0.3655 - val_accuracy: 0.8489\n",
            "Epoch 34/100\n",
            "5359/5359 [==============================] - 1s 135us/step - loss: 0.3375 - accuracy: 0.8610 - val_loss: 0.3646 - val_accuracy: 0.8497\n",
            "Epoch 35/100\n",
            "5359/5359 [==============================] - 1s 139us/step - loss: 0.3368 - accuracy: 0.8612 - val_loss: 0.3640 - val_accuracy: 0.8493\n",
            "Epoch 36/100\n",
            "5359/5359 [==============================] - 1s 138us/step - loss: 0.3361 - accuracy: 0.8619 - val_loss: 0.3641 - val_accuracy: 0.8512\n",
            "Epoch 37/100\n",
            "5359/5359 [==============================] - 1s 138us/step - loss: 0.3356 - accuracy: 0.8602 - val_loss: 0.3632 - val_accuracy: 0.8523\n",
            "Epoch 38/100\n",
            "5359/5359 [==============================] - 1s 134us/step - loss: 0.3353 - accuracy: 0.8599 - val_loss: 0.3634 - val_accuracy: 0.8527\n",
            "Epoch 39/100\n",
            "5359/5359 [==============================] - 1s 136us/step - loss: 0.3350 - accuracy: 0.8602 - val_loss: 0.3628 - val_accuracy: 0.8527\n",
            "Epoch 40/100\n",
            "5359/5359 [==============================] - 1s 137us/step - loss: 0.3345 - accuracy: 0.8621 - val_loss: 0.3624 - val_accuracy: 0.8527\n",
            "Epoch 41/100\n",
            "5359/5359 [==============================] - 1s 135us/step - loss: 0.3340 - accuracy: 0.8619 - val_loss: 0.3609 - val_accuracy: 0.8523\n",
            "Epoch 42/100\n",
            "5359/5359 [==============================] - 1s 137us/step - loss: 0.3337 - accuracy: 0.8614 - val_loss: 0.3611 - val_accuracy: 0.8550\n",
            "Epoch 43/100\n",
            "5359/5359 [==============================] - 1s 137us/step - loss: 0.3334 - accuracy: 0.8623 - val_loss: 0.3612 - val_accuracy: 0.8542\n",
            "Epoch 44/100\n",
            "5359/5359 [==============================] - 1s 140us/step - loss: 0.3333 - accuracy: 0.8615 - val_loss: 0.3610 - val_accuracy: 0.8542\n",
            "Epoch 45/100\n",
            "5359/5359 [==============================] - 1s 139us/step - loss: 0.3330 - accuracy: 0.8638 - val_loss: 0.3612 - val_accuracy: 0.8542\n",
            "Epoch 46/100\n",
            "5359/5359 [==============================] - 1s 136us/step - loss: 0.3329 - accuracy: 0.8642 - val_loss: 0.3603 - val_accuracy: 0.8557\n",
            "Epoch 47/100\n",
            "5359/5359 [==============================] - 1s 137us/step - loss: 0.3324 - accuracy: 0.8634 - val_loss: 0.3605 - val_accuracy: 0.8561\n",
            "Epoch 48/100\n",
            "5359/5359 [==============================] - 1s 136us/step - loss: 0.3322 - accuracy: 0.8640 - val_loss: 0.3602 - val_accuracy: 0.8542\n",
            "Epoch 49/100\n",
            "5359/5359 [==============================] - 1s 139us/step - loss: 0.3321 - accuracy: 0.8628 - val_loss: 0.3603 - val_accuracy: 0.8538\n",
            "Epoch 50/100\n",
            "5359/5359 [==============================] - 1s 135us/step - loss: 0.3320 - accuracy: 0.8636 - val_loss: 0.3599 - val_accuracy: 0.8550\n",
            "Epoch 51/100\n",
            "5359/5359 [==============================] - 1s 135us/step - loss: 0.3316 - accuracy: 0.8615 - val_loss: 0.3589 - val_accuracy: 0.8554\n",
            "Epoch 52/100\n",
            "5359/5359 [==============================] - 1s 140us/step - loss: 0.3316 - accuracy: 0.8628 - val_loss: 0.3600 - val_accuracy: 0.8535\n",
            "Epoch 53/100\n",
            "5359/5359 [==============================] - 1s 138us/step - loss: 0.3314 - accuracy: 0.8632 - val_loss: 0.3596 - val_accuracy: 0.8538\n",
            "Epoch 54/100\n",
            "5359/5359 [==============================] - 1s 141us/step - loss: 0.3313 - accuracy: 0.8636 - val_loss: 0.3599 - val_accuracy: 0.8531\n",
            "Epoch 55/100\n",
            "5359/5359 [==============================] - 1s 134us/step - loss: 0.3311 - accuracy: 0.8632 - val_loss: 0.3598 - val_accuracy: 0.8550\n",
            "Epoch 56/100\n",
            "5359/5359 [==============================] - 1s 139us/step - loss: 0.3311 - accuracy: 0.8642 - val_loss: 0.3598 - val_accuracy: 0.8542\n",
            "Epoch 57/100\n",
            "5359/5359 [==============================] - 1s 135us/step - loss: 0.3307 - accuracy: 0.8636 - val_loss: 0.3594 - val_accuracy: 0.8535\n",
            "Epoch 58/100\n",
            "5359/5359 [==============================] - 1s 135us/step - loss: 0.3306 - accuracy: 0.8645 - val_loss: 0.3592 - val_accuracy: 0.8557\n",
            "Epoch 59/100\n",
            "5359/5359 [==============================] - 1s 133us/step - loss: 0.3308 - accuracy: 0.8638 - val_loss: 0.3597 - val_accuracy: 0.8538\n",
            "Epoch 60/100\n",
            "5359/5359 [==============================] - 1s 141us/step - loss: 0.3307 - accuracy: 0.8636 - val_loss: 0.3597 - val_accuracy: 0.8535\n",
            "Epoch 61/100\n",
            "5359/5359 [==============================] - 1s 134us/step - loss: 0.3306 - accuracy: 0.8634 - val_loss: 0.3598 - val_accuracy: 0.8531\n",
            "Epoch 62/100\n",
            "5359/5359 [==============================] - 1s 140us/step - loss: 0.3302 - accuracy: 0.8628 - val_loss: 0.3595 - val_accuracy: 0.8542\n",
            "Epoch 63/100\n",
            "5359/5359 [==============================] - 1s 136us/step - loss: 0.3303 - accuracy: 0.8634 - val_loss: 0.3601 - val_accuracy: 0.8546\n",
            "Epoch 64/100\n",
            "5359/5359 [==============================] - 1s 137us/step - loss: 0.3302 - accuracy: 0.8645 - val_loss: 0.3594 - val_accuracy: 0.8527\n",
            "Epoch 65/100\n",
            "5359/5359 [==============================] - 1s 138us/step - loss: 0.3304 - accuracy: 0.8642 - val_loss: 0.3587 - val_accuracy: 0.8538\n",
            "Epoch 66/100\n",
            "5359/5359 [==============================] - 1s 136us/step - loss: 0.3301 - accuracy: 0.8628 - val_loss: 0.3586 - val_accuracy: 0.8538\n",
            "Epoch 67/100\n",
            "5359/5359 [==============================] - 1s 141us/step - loss: 0.3301 - accuracy: 0.8638 - val_loss: 0.3594 - val_accuracy: 0.8531\n",
            "Epoch 68/100\n",
            "5359/5359 [==============================] - 1s 138us/step - loss: 0.3299 - accuracy: 0.8647 - val_loss: 0.3590 - val_accuracy: 0.8538\n",
            "Epoch 69/100\n",
            "5359/5359 [==============================] - 1s 138us/step - loss: 0.3298 - accuracy: 0.8645 - val_loss: 0.3588 - val_accuracy: 0.8554\n",
            "Epoch 70/100\n",
            "5359/5359 [==============================] - 1s 133us/step - loss: 0.3298 - accuracy: 0.8638 - val_loss: 0.3588 - val_accuracy: 0.8542\n",
            "Epoch 71/100\n",
            "5359/5359 [==============================] - 1s 134us/step - loss: 0.3298 - accuracy: 0.8623 - val_loss: 0.3589 - val_accuracy: 0.8535\n",
            "Epoch 72/100\n",
            "5359/5359 [==============================] - 1s 135us/step - loss: 0.3296 - accuracy: 0.8634 - val_loss: 0.3585 - val_accuracy: 0.8538\n",
            "Epoch 73/100\n",
            "5359/5359 [==============================] - 1s 134us/step - loss: 0.3294 - accuracy: 0.8642 - val_loss: 0.3584 - val_accuracy: 0.8523\n",
            "Epoch 74/100\n",
            "5359/5359 [==============================] - 1s 135us/step - loss: 0.3297 - accuracy: 0.8642 - val_loss: 0.3590 - val_accuracy: 0.8542\n",
            "Epoch 75/100\n",
            "5359/5359 [==============================] - 1s 137us/step - loss: 0.3297 - accuracy: 0.8651 - val_loss: 0.3587 - val_accuracy: 0.8546\n",
            "Epoch 76/100\n",
            "5359/5359 [==============================] - 1s 137us/step - loss: 0.3294 - accuracy: 0.8628 - val_loss: 0.3589 - val_accuracy: 0.8535\n",
            "Epoch 77/100\n",
            "5359/5359 [==============================] - 1s 137us/step - loss: 0.3293 - accuracy: 0.8647 - val_loss: 0.3586 - val_accuracy: 0.8535\n",
            "Epoch 78/100\n",
            "5359/5359 [==============================] - 1s 135us/step - loss: 0.3294 - accuracy: 0.8645 - val_loss: 0.3581 - val_accuracy: 0.8554\n",
            "Epoch 79/100\n",
            "5359/5359 [==============================] - 1s 134us/step - loss: 0.3295 - accuracy: 0.8647 - val_loss: 0.3583 - val_accuracy: 0.8535\n",
            "Epoch 80/100\n",
            "5359/5359 [==============================] - 1s 136us/step - loss: 0.3295 - accuracy: 0.8643 - val_loss: 0.3596 - val_accuracy: 0.8531\n",
            "Epoch 81/100\n",
            "5359/5359 [==============================] - 1s 140us/step - loss: 0.3295 - accuracy: 0.8662 - val_loss: 0.3587 - val_accuracy: 0.8535\n",
            "Epoch 82/100\n",
            "5359/5359 [==============================] - 1s 134us/step - loss: 0.3292 - accuracy: 0.8643 - val_loss: 0.3584 - val_accuracy: 0.8538\n",
            "Epoch 83/100\n",
            "5359/5359 [==============================] - 1s 139us/step - loss: 0.3292 - accuracy: 0.8642 - val_loss: 0.3585 - val_accuracy: 0.8542\n",
            "Epoch 84/100\n",
            "5359/5359 [==============================] - 1s 134us/step - loss: 0.3294 - accuracy: 0.8638 - val_loss: 0.3583 - val_accuracy: 0.8542\n",
            "Epoch 85/100\n",
            "5359/5359 [==============================] - 1s 139us/step - loss: 0.3294 - accuracy: 0.8634 - val_loss: 0.3583 - val_accuracy: 0.8554\n",
            "Epoch 86/100\n",
            "5359/5359 [==============================] - 1s 134us/step - loss: 0.3292 - accuracy: 0.8647 - val_loss: 0.3586 - val_accuracy: 0.8538\n",
            "Epoch 87/100\n",
            "5359/5359 [==============================] - 1s 134us/step - loss: 0.3291 - accuracy: 0.8658 - val_loss: 0.3585 - val_accuracy: 0.8538\n",
            "Epoch 88/100\n",
            "5359/5359 [==============================] - 1s 135us/step - loss: 0.3293 - accuracy: 0.8642 - val_loss: 0.3578 - val_accuracy: 0.8554\n",
            "Epoch 89/100\n",
            "5359/5359 [==============================] - 1s 139us/step - loss: 0.3291 - accuracy: 0.8645 - val_loss: 0.3589 - val_accuracy: 0.8527\n",
            "Epoch 90/100\n",
            "5359/5359 [==============================] - 1s 135us/step - loss: 0.3289 - accuracy: 0.8643 - val_loss: 0.3582 - val_accuracy: 0.8546\n",
            "Epoch 91/100\n",
            "5359/5359 [==============================] - 1s 141us/step - loss: 0.3289 - accuracy: 0.8638 - val_loss: 0.3577 - val_accuracy: 0.8546\n",
            "Epoch 92/100\n",
            "5359/5359 [==============================] - 1s 135us/step - loss: 0.3289 - accuracy: 0.8651 - val_loss: 0.3576 - val_accuracy: 0.8546\n",
            "Epoch 93/100\n",
            "5359/5359 [==============================] - 1s 136us/step - loss: 0.3293 - accuracy: 0.8645 - val_loss: 0.3589 - val_accuracy: 0.8538\n",
            "Epoch 94/100\n",
            "5359/5359 [==============================] - 1s 134us/step - loss: 0.3292 - accuracy: 0.8662 - val_loss: 0.3577 - val_accuracy: 0.8538\n",
            "Epoch 95/100\n",
            "5359/5359 [==============================] - 1s 140us/step - loss: 0.3290 - accuracy: 0.8642 - val_loss: 0.3579 - val_accuracy: 0.8538\n",
            "Epoch 96/100\n",
            "5359/5359 [==============================] - 1s 138us/step - loss: 0.3291 - accuracy: 0.8649 - val_loss: 0.3585 - val_accuracy: 0.8546\n",
            "Epoch 97/100\n",
            "5359/5359 [==============================] - 1s 137us/step - loss: 0.3289 - accuracy: 0.8653 - val_loss: 0.3580 - val_accuracy: 0.8542\n",
            "Epoch 98/100\n",
            "5359/5359 [==============================] - 1s 133us/step - loss: 0.3290 - accuracy: 0.8655 - val_loss: 0.3576 - val_accuracy: 0.8542\n",
            "Epoch 99/100\n",
            "5359/5359 [==============================] - 1s 136us/step - loss: 0.3290 - accuracy: 0.8649 - val_loss: 0.3576 - val_accuracy: 0.8542\n",
            "Epoch 100/100\n",
            "5359/5359 [==============================] - 1s 137us/step - loss: 0.3289 - accuracy: 0.8640 - val_loss: 0.3574 - val_accuracy: 0.8535\n"
          ],
          "name": "stdout"
        }
      ]
    },
    {
      "cell_type": "code",
      "metadata": {
        "id": "4o5_D7_kVamp",
        "colab_type": "code",
        "colab": {
          "base_uri": "https://localhost:8080/",
          "height": 312
        },
        "outputId": "a8813e66-6553-4d6f-f7c9-c594eabee939"
      },
      "source": [
        "# list all data in history\n",
        "\n",
        "print(model_history.history.keys())\n",
        "# summarize history for accuracy\n",
        "plt.plot(model_history.history['accuracy'])\n",
        "plt.plot(model_history.history['val_accuracy'])\n",
        "plt.title('model accuracy')\n",
        "plt.ylabel('accuracy')\n",
        "plt.xlabel('epoch')\n",
        "plt.legend(['train', 'test'], loc='upper left')\n",
        "plt.show()"
      ],
      "execution_count": 19,
      "outputs": [
        {
          "output_type": "stream",
          "text": [
            "dict_keys(['val_loss', 'val_accuracy', 'loss', 'accuracy'])\n"
          ],
          "name": "stdout"
        },
        {
          "output_type": "display_data",
          "data": {
            "image/png": "[encoded data removed]",
            "text/plain": [
              "<Figure size 432x288 with 1 Axes>"
            ]
          },
          "metadata": {
            "tags": [],
            "needs_background": "light"
          }
        }
      ]
    },
    {
      "cell_type": "code",
      "metadata": {
        "id": "aUK-Zq7PXgxz",
        "colab_type": "code",
        "colab": {
          "base_uri": "https://localhost:8080/",
          "height": 295
        },
        "outputId": "c67369a7-c6a4-433d-f1b2-4b8c1895297f"
      },
      "source": [
        " #summarize history for loss\n",
        "plt.plot(model_history.history['loss'])\n",
        "plt.plot(model_history.history['val_loss'])\n",
        "plt.title('model loss')\n",
        "plt.ylabel('loss')\n",
        "plt.xlabel('epoch')\n",
        "plt.legend(['train', 'test'], loc='upper left')\n",
        "plt.show()"
      ],
      "execution_count": 20,
      "outputs": [
        {
          "output_type": "display_data",
          "data": {
            "image/png": "[encoded data removed]",
            "text/plain": [
              "<Figure size 432x288 with 1 Axes>"
            ]
          },
          "metadata": {
            "tags": [],
            "needs_background": "light"
          }
        }
      ]
    },
    {
      "cell_type": "code",
      "metadata": {
        "id": "1LU_5CKnXg77",
        "colab_type": "code",
        "colab": {}
      },
      "source": [
        " #Part 3 - Making the predictions and evaluating the model\n",
        "\n",
        "# Predicting the Test set results\n",
        "y_pred = classifier.predict(X_test)\n",
        "y_pred = (y_pred > 0.5)\n"
      ],
      "execution_count": 22,
      "outputs": []
    },
    {
      "cell_type": "code",
      "metadata": {
        "id": "8rlTuVC6XhBe",
        "colab_type": "code",
        "colab": {}
      },
      "source": [
        "# Making the Confusion Matrix\n",
        "from sklearn.metrics import confusion_matrix\n",
        "cm = confusion_matrix(y_test, y_pred)\n"
      ],
      "execution_count": 23,
      "outputs": []
    },
    {
      "cell_type": "code",
      "metadata": {
        "id": "R9c5GiK9YdD3",
        "colab_type": "code",
        "colab": {}
      },
      "source": [
        "# Calculate the Accuracy\n",
        "from sklearn.metrics import accuracy_score\n",
        "score=accuracy_score(y_pred,y_test)\n"
      ],
      "execution_count": 28,
      "outputs": []
    }
  ]
}